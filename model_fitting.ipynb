{
 "cells": [
  {
   "cell_type": "markdown",
   "metadata": {},
   "source": [
    "# Modeling Domestic Gross Revenue for Movies from IMDb"
   ]
  },
  {
   "cell_type": "code",
   "execution_count": 1,
   "metadata": {},
   "outputs": [],
   "source": [
    "import pandas as pd\n",
    "import numpy as np\n",
    "import matplotlib.pyplot as plt\n",
    "import seaborn as sns\n",
    "import statsmodels.api as sm\n",
    "from datetime import date\n",
    "from sklearn import preprocessing\n",
    "from itertools import combinations\n",
    "from sklearn.model_selection import cross_validate, GridSearchCV, train_test_split\n",
    "from sklearn.linear_model import LinearRegression, Ridge, Lasso\n",
    "from sklearn.neighbors import KNeighborsRegressor\n",
    "from tqdm import tqdm\n",
    "from sklearn.metrics import r2_score\n",
    "from xgboost import XGBRegressor"
   ]
  },
  {
   "cell_type": "code",
   "execution_count": 2,
   "metadata": {},
   "outputs": [],
   "source": [
    "df = pd.read_csv('imdb_data_cleaned.csv')\n",
    "df.drop(columns=['Unnamed: 0'], inplace=True)"
   ]
  },
  {
   "cell_type": "markdown",
   "metadata": {},
   "source": [
    "Setting Y variables for modeling and dropping them from the dataframe:"
   ]
  },
  {
   "cell_type": "code",
   "execution_count": 3,
   "metadata": {},
   "outputs": [],
   "source": [
    "opn_wknd = df.loc[df.index, 'opn_wknd']\n",
    "gross = df.loc[df.index, 'gross']\n",
    "log_gross = np.log(gross)\n",
    "\n",
    "df.drop(columns=['gross', 'opn_wknd'], inplace=True)\n",
    "df.drop(columns=['title', 'directors', 'writers', 'cast'], inplace=True)"
   ]
  },
  {
   "cell_type": "markdown",
   "metadata": {},
   "source": [
    "Dropping columns with low relevance with response and other variables:"
   ]
  },
  {
   "cell_type": "code",
   "execution_count": 4,
   "metadata": {},
   "outputs": [],
   "source": [
    "df.drop(columns=['Biography', 'Comedy', 'History', 'Music', 'Musical', 'Mystery', 'Sport', 'War', 'Western'], inplace=True)"
   ]
  },
  {
   "cell_type": "code",
   "execution_count": 5,
   "metadata": {},
   "outputs": [],
   "source": [
    "df = sm.add_constant(df)"
   ]
  },
  {
   "cell_type": "code",
   "execution_count": 6,
   "metadata": {},
   "outputs": [
    {
     "data": {
      "text/html": [
       "<div>\n",
       "<style scoped>\n",
       "    .dataframe tbody tr th:only-of-type {\n",
       "        vertical-align: middle;\n",
       "    }\n",
       "\n",
       "    .dataframe tbody tr th {\n",
       "        vertical-align: top;\n",
       "    }\n",
       "\n",
       "    .dataframe thead th {\n",
       "        text-align: right;\n",
       "    }\n",
       "</style>\n",
       "<table border=\"1\" class=\"dataframe\">\n",
       "  <thead>\n",
       "    <tr style=\"text-align: right;\">\n",
       "      <th></th>\n",
       "      <th>const</th>\n",
       "      <th>budget</th>\n",
       "      <th>runtime</th>\n",
       "      <th>PG</th>\n",
       "      <th>PG-13</th>\n",
       "      <th>R</th>\n",
       "      <th>Action</th>\n",
       "      <th>Adventure</th>\n",
       "      <th>Animation</th>\n",
       "      <th>Crime</th>\n",
       "      <th>...</th>\n",
       "      <th>Family</th>\n",
       "      <th>Fantasy</th>\n",
       "      <th>Horror</th>\n",
       "      <th>Romance</th>\n",
       "      <th>Sci-Fi</th>\n",
       "      <th>Thriller</th>\n",
       "      <th>days</th>\n",
       "      <th>dir_rank</th>\n",
       "      <th>wri_rank</th>\n",
       "      <th>cast_rank</th>\n",
       "    </tr>\n",
       "  </thead>\n",
       "  <tbody>\n",
       "    <tr>\n",
       "      <th>0</th>\n",
       "      <td>1.0</td>\n",
       "      <td>2450.0</td>\n",
       "      <td>138.0</td>\n",
       "      <td>0</td>\n",
       "      <td>1</td>\n",
       "      <td>0</td>\n",
       "      <td>1</td>\n",
       "      <td>1</td>\n",
       "      <td>0</td>\n",
       "      <td>0</td>\n",
       "      <td>...</td>\n",
       "      <td>0</td>\n",
       "      <td>0</td>\n",
       "      <td>0</td>\n",
       "      <td>0</td>\n",
       "      <td>1</td>\n",
       "      <td>0</td>\n",
       "      <td>1759</td>\n",
       "      <td>1066</td>\n",
       "      <td>2259</td>\n",
       "      <td>17850</td>\n",
       "    </tr>\n",
       "    <tr>\n",
       "      <th>1</th>\n",
       "      <td>1.0</td>\n",
       "      <td>3560.0</td>\n",
       "      <td>181.0</td>\n",
       "      <td>0</td>\n",
       "      <td>1</td>\n",
       "      <td>0</td>\n",
       "      <td>1</td>\n",
       "      <td>1</td>\n",
       "      <td>0</td>\n",
       "      <td>0</td>\n",
       "      <td>...</td>\n",
       "      <td>0</td>\n",
       "      <td>0</td>\n",
       "      <td>0</td>\n",
       "      <td>0</td>\n",
       "      <td>1</td>\n",
       "      <td>0</td>\n",
       "      <td>534</td>\n",
       "      <td>1080</td>\n",
       "      <td>2276</td>\n",
       "      <td>17829</td>\n",
       "    </tr>\n",
       "    <tr>\n",
       "      <th>2</th>\n",
       "      <td>1.0</td>\n",
       "      <td>2370.0</td>\n",
       "      <td>162.0</td>\n",
       "      <td>0</td>\n",
       "      <td>1</td>\n",
       "      <td>0</td>\n",
       "      <td>1</td>\n",
       "      <td>1</td>\n",
       "      <td>0</td>\n",
       "      <td>0</td>\n",
       "      <td>...</td>\n",
       "      <td>0</td>\n",
       "      <td>1</td>\n",
       "      <td>0</td>\n",
       "      <td>0</td>\n",
       "      <td>1</td>\n",
       "      <td>0</td>\n",
       "      <td>3950</td>\n",
       "      <td>842</td>\n",
       "      <td>1749</td>\n",
       "      <td>17597</td>\n",
       "    </tr>\n",
       "    <tr>\n",
       "      <th>3</th>\n",
       "      <td>1.0</td>\n",
       "      <td>2000.0</td>\n",
       "      <td>134.0</td>\n",
       "      <td>0</td>\n",
       "      <td>1</td>\n",
       "      <td>0</td>\n",
       "      <td>1</td>\n",
       "      <td>1</td>\n",
       "      <td>0</td>\n",
       "      <td>0</td>\n",
       "      <td>...</td>\n",
       "      <td>0</td>\n",
       "      <td>0</td>\n",
       "      <td>0</td>\n",
       "      <td>0</td>\n",
       "      <td>1</td>\n",
       "      <td>0</td>\n",
       "      <td>968</td>\n",
       "      <td>1068</td>\n",
       "      <td>2282</td>\n",
       "      <td>17846</td>\n",
       "    </tr>\n",
       "    <tr>\n",
       "      <th>4</th>\n",
       "      <td>1.0</td>\n",
       "      <td>3210.0</td>\n",
       "      <td>149.0</td>\n",
       "      <td>0</td>\n",
       "      <td>1</td>\n",
       "      <td>0</td>\n",
       "      <td>1</td>\n",
       "      <td>1</td>\n",
       "      <td>0</td>\n",
       "      <td>0</td>\n",
       "      <td>...</td>\n",
       "      <td>0</td>\n",
       "      <td>0</td>\n",
       "      <td>0</td>\n",
       "      <td>0</td>\n",
       "      <td>1</td>\n",
       "      <td>0</td>\n",
       "      <td>898</td>\n",
       "      <td>1080</td>\n",
       "      <td>2276</td>\n",
       "      <td>17829</td>\n",
       "    </tr>\n",
       "  </tbody>\n",
       "</table>\n",
       "<p>5 rows × 21 columns</p>\n",
       "</div>"
      ],
      "text/plain": [
       "   const  budget  runtime  PG  PG-13  R  Action  Adventure  Animation  Crime  \\\n",
       "0    1.0  2450.0    138.0   0      1  0       1          1          0      0   \n",
       "1    1.0  3560.0    181.0   0      1  0       1          1          0      0   \n",
       "2    1.0  2370.0    162.0   0      1  0       1          1          0      0   \n",
       "3    1.0  2000.0    134.0   0      1  0       1          1          0      0   \n",
       "4    1.0  3210.0    149.0   0      1  0       1          1          0      0   \n",
       "\n",
       "   ...  Family  Fantasy  Horror  Romance  Sci-Fi  Thriller  days  dir_rank  \\\n",
       "0  ...       0        0       0        0       1         0  1759      1066   \n",
       "1  ...       0        0       0        0       1         0   534      1080   \n",
       "2  ...       0        1       0        0       1         0  3950       842   \n",
       "3  ...       0        0       0        0       1         0   968      1068   \n",
       "4  ...       0        0       0        0       1         0   898      1080   \n",
       "\n",
       "   wri_rank  cast_rank  \n",
       "0      2259      17850  \n",
       "1      2276      17829  \n",
       "2      1749      17597  \n",
       "3      2282      17846  \n",
       "4      2276      17829  \n",
       "\n",
       "[5 rows x 21 columns]"
      ]
     },
     "execution_count": 6,
     "metadata": {},
     "output_type": "execute_result"
    }
   ],
   "source": [
    "df.head()"
   ]
  },
  {
   "cell_type": "markdown",
   "metadata": {},
   "source": [
    "Lets fit a couple of OLS models to get a baseline, and test different y variables:"
   ]
  },
  {
   "cell_type": "code",
   "execution_count": 7,
   "metadata": {},
   "outputs": [
    {
     "data": {
      "text/html": [
       "<table class=\"simpletable\">\n",
       "<caption>OLS Regression Results</caption>\n",
       "<tr>\n",
       "  <th>Dep. Variable:</th>          <td>gross</td>      <th>  R-squared:         </th> <td>   0.475</td> \n",
       "</tr>\n",
       "<tr>\n",
       "  <th>Model:</th>                   <td>OLS</td>       <th>  Adj. R-squared:    </th> <td>   0.471</td> \n",
       "</tr>\n",
       "<tr>\n",
       "  <th>Method:</th>             <td>Least Squares</td>  <th>  F-statistic:       </th> <td>   106.0</td> \n",
       "</tr>\n",
       "<tr>\n",
       "  <th>Date:</th>             <td>Sun, 11 Oct 2020</td> <th>  Prob (F-statistic):</th> <td>2.00e-309</td>\n",
       "</tr>\n",
       "<tr>\n",
       "  <th>Time:</th>                 <td>22:56:51</td>     <th>  Log-Likelihood:    </th> <td> -18611.</td> \n",
       "</tr>\n",
       "<tr>\n",
       "  <th>No. Observations:</th>      <td>  2363</td>      <th>  AIC:               </th> <td>3.726e+04</td>\n",
       "</tr>\n",
       "<tr>\n",
       "  <th>Df Residuals:</th>          <td>  2342</td>      <th>  BIC:               </th> <td>3.738e+04</td>\n",
       "</tr>\n",
       "<tr>\n",
       "  <th>Df Model:</th>              <td>    20</td>      <th>                     </th>     <td> </td>    \n",
       "</tr>\n",
       "<tr>\n",
       "  <th>Covariance Type:</th>      <td>nonrobust</td>    <th>                     </th>     <td> </td>    \n",
       "</tr>\n",
       "</table>\n",
       "<table class=\"simpletable\">\n",
       "<tr>\n",
       "      <td></td>         <th>coef</th>     <th>std err</th>      <th>t</th>      <th>P>|t|</th>  <th>[0.025</th>    <th>0.975]</th>  \n",
       "</tr>\n",
       "<tr>\n",
       "  <th>const</th>     <td> -779.6117</td> <td>  156.450</td> <td>   -4.983</td> <td> 0.000</td> <td>-1086.406</td> <td> -472.817</td>\n",
       "</tr>\n",
       "<tr>\n",
       "  <th>budget</th>    <td>    0.6144</td> <td>    0.040</td> <td>   15.294</td> <td> 0.000</td> <td>    0.536</td> <td>    0.693</td>\n",
       "</tr>\n",
       "<tr>\n",
       "  <th>runtime</th>   <td>    7.8394</td> <td>    0.908</td> <td>    8.637</td> <td> 0.000</td> <td>    6.060</td> <td>    9.619</td>\n",
       "</tr>\n",
       "<tr>\n",
       "  <th>PG</th>        <td> -111.3155</td> <td>   61.728</td> <td>   -1.803</td> <td> 0.071</td> <td> -232.362</td> <td>    9.731</td>\n",
       "</tr>\n",
       "<tr>\n",
       "  <th>PG-13</th>     <td> -200.5907</td> <td>   55.136</td> <td>   -3.638</td> <td> 0.000</td> <td> -308.711</td> <td>  -92.470</td>\n",
       "</tr>\n",
       "<tr>\n",
       "  <th>R</th>         <td> -215.1764</td> <td>   54.149</td> <td>   -3.974</td> <td> 0.000</td> <td> -321.362</td> <td> -108.991</td>\n",
       "</tr>\n",
       "<tr>\n",
       "  <th>Action</th>    <td> -113.8429</td> <td>   36.263</td> <td>   -3.139</td> <td> 0.002</td> <td> -184.953</td> <td>  -42.733</td>\n",
       "</tr>\n",
       "<tr>\n",
       "  <th>Adventure</th> <td>   45.4010</td> <td>   39.897</td> <td>    1.138</td> <td> 0.255</td> <td>  -32.836</td> <td>  123.638</td>\n",
       "</tr>\n",
       "<tr>\n",
       "  <th>Animation</th> <td>  251.1870</td> <td>   64.925</td> <td>    3.869</td> <td> 0.000</td> <td>  123.871</td> <td>  378.503</td>\n",
       "</tr>\n",
       "<tr>\n",
       "  <th>Crime</th>     <td> -154.7411</td> <td>   40.553</td> <td>   -3.816</td> <td> 0.000</td> <td> -234.265</td> <td>  -75.217</td>\n",
       "</tr>\n",
       "<tr>\n",
       "  <th>Drama</th>     <td>  -58.2889</td> <td>   33.815</td> <td>   -1.724</td> <td> 0.085</td> <td> -124.599</td> <td>    8.021</td>\n",
       "</tr>\n",
       "<tr>\n",
       "  <th>Family</th>    <td> -144.0239</td> <td>   65.367</td> <td>   -2.203</td> <td> 0.028</td> <td> -272.207</td> <td>  -15.840</td>\n",
       "</tr>\n",
       "<tr>\n",
       "  <th>Fantasy</th>   <td> -117.7329</td> <td>   37.355</td> <td>   -3.152</td> <td> 0.002</td> <td> -190.985</td> <td>  -44.481</td>\n",
       "</tr>\n",
       "<tr>\n",
       "  <th>Horror</th>    <td> -130.2740</td> <td>   44.146</td> <td>   -2.951</td> <td> 0.003</td> <td> -216.843</td> <td>  -43.705</td>\n",
       "</tr>\n",
       "<tr>\n",
       "  <th>Romance</th>   <td> -104.1675</td> <td>   38.865</td> <td>   -2.680</td> <td> 0.007</td> <td> -180.381</td> <td>  -27.954</td>\n",
       "</tr>\n",
       "<tr>\n",
       "  <th>Sci-Fi</th>    <td>  -60.0241</td> <td>   37.115</td> <td>   -1.617</td> <td> 0.106</td> <td> -132.806</td> <td>   12.757</td>\n",
       "</tr>\n",
       "<tr>\n",
       "  <th>Thriller</th>  <td> -160.3354</td> <td>   32.762</td> <td>   -4.894</td> <td> 0.000</td> <td> -224.581</td> <td>  -96.090</td>\n",
       "</tr>\n",
       "<tr>\n",
       "  <th>days</th>      <td>    0.0170</td> <td>    0.005</td> <td>    3.500</td> <td> 0.000</td> <td>    0.007</td> <td>    0.027</td>\n",
       "</tr>\n",
       "<tr>\n",
       "  <th>dir_rank</th>  <td>    0.5794</td> <td>    0.067</td> <td>    8.693</td> <td> 0.000</td> <td>    0.449</td> <td>    0.710</td>\n",
       "</tr>\n",
       "<tr>\n",
       "  <th>wri_rank</th>  <td>    0.2132</td> <td>    0.031</td> <td>    6.912</td> <td> 0.000</td> <td>    0.153</td> <td>    0.274</td>\n",
       "</tr>\n",
       "<tr>\n",
       "  <th>cast_rank</th> <td>    0.0075</td> <td>    0.007</td> <td>    1.065</td> <td> 0.287</td> <td>   -0.006</td> <td>    0.021</td>\n",
       "</tr>\n",
       "</table>\n",
       "<table class=\"simpletable\">\n",
       "<tr>\n",
       "  <th>Omnibus:</th>       <td>1394.380</td> <th>  Durbin-Watson:     </th> <td>   0.834</td> \n",
       "</tr>\n",
       "<tr>\n",
       "  <th>Prob(Omnibus):</th>  <td> 0.000</td>  <th>  Jarque-Bera (JB):  </th> <td>22698.805</td>\n",
       "</tr>\n",
       "<tr>\n",
       "  <th>Skew:</th>           <td> 2.466</td>  <th>  Prob(JB):          </th> <td>    0.00</td> \n",
       "</tr>\n",
       "<tr>\n",
       "  <th>Kurtosis:</th>       <td>17.360</td>  <th>  Cond. No.          </th> <td>2.06e+05</td> \n",
       "</tr>\n",
       "</table><br/><br/>Warnings:<br/>[1] Standard Errors assume that the covariance matrix of the errors is correctly specified.<br/>[2] The condition number is large, 2.06e+05. This might indicate that there are<br/>strong multicollinearity or other numerical problems."
      ],
      "text/plain": [
       "<class 'statsmodels.iolib.summary.Summary'>\n",
       "\"\"\"\n",
       "                            OLS Regression Results                            \n",
       "==============================================================================\n",
       "Dep. Variable:                  gross   R-squared:                       0.475\n",
       "Model:                            OLS   Adj. R-squared:                  0.471\n",
       "Method:                 Least Squares   F-statistic:                     106.0\n",
       "Date:                Sun, 11 Oct 2020   Prob (F-statistic):          2.00e-309\n",
       "Time:                        22:56:51   Log-Likelihood:                -18611.\n",
       "No. Observations:                2363   AIC:                         3.726e+04\n",
       "Df Residuals:                    2342   BIC:                         3.738e+04\n",
       "Df Model:                          20                                         \n",
       "Covariance Type:            nonrobust                                         \n",
       "==============================================================================\n",
       "                 coef    std err          t      P>|t|      [0.025      0.975]\n",
       "------------------------------------------------------------------------------\n",
       "const       -779.6117    156.450     -4.983      0.000   -1086.406    -472.817\n",
       "budget         0.6144      0.040     15.294      0.000       0.536       0.693\n",
       "runtime        7.8394      0.908      8.637      0.000       6.060       9.619\n",
       "PG          -111.3155     61.728     -1.803      0.071    -232.362       9.731\n",
       "PG-13       -200.5907     55.136     -3.638      0.000    -308.711     -92.470\n",
       "R           -215.1764     54.149     -3.974      0.000    -321.362    -108.991\n",
       "Action      -113.8429     36.263     -3.139      0.002    -184.953     -42.733\n",
       "Adventure     45.4010     39.897      1.138      0.255     -32.836     123.638\n",
       "Animation    251.1870     64.925      3.869      0.000     123.871     378.503\n",
       "Crime       -154.7411     40.553     -3.816      0.000    -234.265     -75.217\n",
       "Drama        -58.2889     33.815     -1.724      0.085    -124.599       8.021\n",
       "Family      -144.0239     65.367     -2.203      0.028    -272.207     -15.840\n",
       "Fantasy     -117.7329     37.355     -3.152      0.002    -190.985     -44.481\n",
       "Horror      -130.2740     44.146     -2.951      0.003    -216.843     -43.705\n",
       "Romance     -104.1675     38.865     -2.680      0.007    -180.381     -27.954\n",
       "Sci-Fi       -60.0241     37.115     -1.617      0.106    -132.806      12.757\n",
       "Thriller    -160.3354     32.762     -4.894      0.000    -224.581     -96.090\n",
       "days           0.0170      0.005      3.500      0.000       0.007       0.027\n",
       "dir_rank       0.5794      0.067      8.693      0.000       0.449       0.710\n",
       "wri_rank       0.2132      0.031      6.912      0.000       0.153       0.274\n",
       "cast_rank      0.0075      0.007      1.065      0.287      -0.006       0.021\n",
       "==============================================================================\n",
       "Omnibus:                     1394.380   Durbin-Watson:                   0.834\n",
       "Prob(Omnibus):                  0.000   Jarque-Bera (JB):            22698.805\n",
       "Skew:                           2.466   Prob(JB):                         0.00\n",
       "Kurtosis:                      17.360   Cond. No.                     2.06e+05\n",
       "==============================================================================\n",
       "\n",
       "Warnings:\n",
       "[1] Standard Errors assume that the covariance matrix of the errors is correctly specified.\n",
       "[2] The condition number is large, 2.06e+05. This might indicate that there are\n",
       "strong multicollinearity or other numerical problems.\n",
       "\"\"\""
      ]
     },
     "execution_count": 7,
     "metadata": {},
     "output_type": "execute_result"
    }
   ],
   "source": [
    "model = sm.OLS(gross, df)\n",
    "fit = model.fit()\n",
    "fit.summary()"
   ]
  },
  {
   "cell_type": "code",
   "execution_count": 8,
   "metadata": {},
   "outputs": [
    {
     "data": {
      "text/html": [
       "<table class=\"simpletable\">\n",
       "<caption>OLS Regression Results</caption>\n",
       "<tr>\n",
       "  <th>Dep. Variable:</th>          <td>gross</td>      <th>  R-squared:         </th> <td>   0.605</td>\n",
       "</tr>\n",
       "<tr>\n",
       "  <th>Model:</th>                   <td>OLS</td>       <th>  Adj. R-squared:    </th> <td>   0.602</td>\n",
       "</tr>\n",
       "<tr>\n",
       "  <th>Method:</th>             <td>Least Squares</td>  <th>  F-statistic:       </th> <td>   179.6</td>\n",
       "</tr>\n",
       "<tr>\n",
       "  <th>Date:</th>             <td>Sun, 11 Oct 2020</td> <th>  Prob (F-statistic):</th>  <td>  0.00</td> \n",
       "</tr>\n",
       "<tr>\n",
       "  <th>Time:</th>                 <td>22:57:01</td>     <th>  Log-Likelihood:    </th> <td> -1631.7</td>\n",
       "</tr>\n",
       "<tr>\n",
       "  <th>No. Observations:</th>      <td>  2363</td>      <th>  AIC:               </th> <td>   3305.</td>\n",
       "</tr>\n",
       "<tr>\n",
       "  <th>Df Residuals:</th>          <td>  2342</td>      <th>  BIC:               </th> <td>   3426.</td>\n",
       "</tr>\n",
       "<tr>\n",
       "  <th>Df Model:</th>              <td>    20</td>      <th>                     </th>     <td> </td>   \n",
       "</tr>\n",
       "<tr>\n",
       "  <th>Covariance Type:</th>      <td>nonrobust</td>    <th>                     </th>     <td> </td>   \n",
       "</tr>\n",
       "</table>\n",
       "<table class=\"simpletable\">\n",
       "<tr>\n",
       "      <td></td>         <th>coef</th>     <th>std err</th>      <th>t</th>      <th>P>|t|</th>  <th>[0.025</th>    <th>0.975]</th>  \n",
       "</tr>\n",
       "<tr>\n",
       "  <th>const</th>     <td>    5.0017</td> <td>    0.119</td> <td>   42.197</td> <td> 0.000</td> <td>    4.769</td> <td>    5.234</td>\n",
       "</tr>\n",
       "<tr>\n",
       "  <th>budget</th>    <td>    0.0003</td> <td> 3.04e-05</td> <td>   10.820</td> <td> 0.000</td> <td>    0.000</td> <td>    0.000</td>\n",
       "</tr>\n",
       "<tr>\n",
       "  <th>runtime</th>   <td>    0.0063</td> <td>    0.001</td> <td>    9.118</td> <td> 0.000</td> <td>    0.005</td> <td>    0.008</td>\n",
       "</tr>\n",
       "<tr>\n",
       "  <th>PG</th>        <td>   -0.0569</td> <td>    0.047</td> <td>   -1.218</td> <td> 0.224</td> <td>   -0.149</td> <td>    0.035</td>\n",
       "</tr>\n",
       "<tr>\n",
       "  <th>PG-13</th>     <td>   -0.1487</td> <td>    0.042</td> <td>   -3.560</td> <td> 0.000</td> <td>   -0.231</td> <td>   -0.067</td>\n",
       "</tr>\n",
       "<tr>\n",
       "  <th>R</th>         <td>   -0.1482</td> <td>    0.041</td> <td>   -3.613</td> <td> 0.000</td> <td>   -0.229</td> <td>   -0.068</td>\n",
       "</tr>\n",
       "<tr>\n",
       "  <th>Action</th>    <td>   -0.0955</td> <td>    0.027</td> <td>   -3.476</td> <td> 0.001</td> <td>   -0.149</td> <td>   -0.042</td>\n",
       "</tr>\n",
       "<tr>\n",
       "  <th>Adventure</th> <td>    0.0012</td> <td>    0.030</td> <td>    0.039</td> <td> 0.969</td> <td>   -0.058</td> <td>    0.060</td>\n",
       "</tr>\n",
       "<tr>\n",
       "  <th>Animation</th> <td>    0.1932</td> <td>    0.049</td> <td>    3.928</td> <td> 0.000</td> <td>    0.097</td> <td>    0.290</td>\n",
       "</tr>\n",
       "<tr>\n",
       "  <th>Crime</th>     <td>   -0.2595</td> <td>    0.031</td> <td>   -8.447</td> <td> 0.000</td> <td>   -0.320</td> <td>   -0.199</td>\n",
       "</tr>\n",
       "<tr>\n",
       "  <th>Drama</th>     <td>   -0.0431</td> <td>    0.026</td> <td>   -1.684</td> <td> 0.092</td> <td>   -0.093</td> <td>    0.007</td>\n",
       "</tr>\n",
       "<tr>\n",
       "  <th>Family</th>    <td>   -0.0836</td> <td>    0.050</td> <td>   -1.687</td> <td> 0.092</td> <td>   -0.181</td> <td>    0.014</td>\n",
       "</tr>\n",
       "<tr>\n",
       "  <th>Fantasy</th>   <td>   -0.1674</td> <td>    0.028</td> <td>   -5.916</td> <td> 0.000</td> <td>   -0.223</td> <td>   -0.112</td>\n",
       "</tr>\n",
       "<tr>\n",
       "  <th>Horror</th>    <td>   -0.5215</td> <td>    0.033</td> <td>  -15.594</td> <td> 0.000</td> <td>   -0.587</td> <td>   -0.456</td>\n",
       "</tr>\n",
       "<tr>\n",
       "  <th>Romance</th>   <td>   -0.1319</td> <td>    0.029</td> <td>   -4.480</td> <td> 0.000</td> <td>   -0.190</td> <td>   -0.074</td>\n",
       "</tr>\n",
       "<tr>\n",
       "  <th>Sci-Fi</th>    <td>   -0.2221</td> <td>    0.028</td> <td>   -7.899</td> <td> 0.000</td> <td>   -0.277</td> <td>   -0.167</td>\n",
       "</tr>\n",
       "<tr>\n",
       "  <th>Thriller</th>  <td>   -0.1229</td> <td>    0.025</td> <td>   -4.950</td> <td> 0.000</td> <td>   -0.172</td> <td>   -0.074</td>\n",
       "</tr>\n",
       "<tr>\n",
       "  <th>days</th>      <td> 2.056e-05</td> <td> 3.69e-06</td> <td>    5.578</td> <td> 0.000</td> <td> 1.33e-05</td> <td> 2.78e-05</td>\n",
       "</tr>\n",
       "<tr>\n",
       "  <th>dir_rank</th>  <td>    0.0007</td> <td> 5.05e-05</td> <td>   14.112</td> <td> 0.000</td> <td>    0.001</td> <td>    0.001</td>\n",
       "</tr>\n",
       "<tr>\n",
       "  <th>wri_rank</th>  <td>    0.0003</td> <td> 2.34e-05</td> <td>   12.265</td> <td> 0.000</td> <td>    0.000</td> <td>    0.000</td>\n",
       "</tr>\n",
       "<tr>\n",
       "  <th>cast_rank</th> <td> 9.346e-06</td> <td> 5.33e-06</td> <td>    1.755</td> <td> 0.079</td> <td> -1.1e-06</td> <td> 1.98e-05</td>\n",
       "</tr>\n",
       "</table>\n",
       "<table class=\"simpletable\">\n",
       "<tr>\n",
       "  <th>Omnibus:</th>       <td>40.696</td> <th>  Durbin-Watson:     </th> <td>   1.077</td>\n",
       "</tr>\n",
       "<tr>\n",
       "  <th>Prob(Omnibus):</th> <td> 0.000</td> <th>  Jarque-Bera (JB):  </th> <td>  67.660</td>\n",
       "</tr>\n",
       "<tr>\n",
       "  <th>Skew:</th>          <td> 0.136</td> <th>  Prob(JB):          </th> <td>2.03e-15</td>\n",
       "</tr>\n",
       "<tr>\n",
       "  <th>Kurtosis:</th>      <td> 3.783</td> <th>  Cond. No.          </th> <td>2.06e+05</td>\n",
       "</tr>\n",
       "</table><br/><br/>Warnings:<br/>[1] Standard Errors assume that the covariance matrix of the errors is correctly specified.<br/>[2] The condition number is large, 2.06e+05. This might indicate that there are<br/>strong multicollinearity or other numerical problems."
      ],
      "text/plain": [
       "<class 'statsmodels.iolib.summary.Summary'>\n",
       "\"\"\"\n",
       "                            OLS Regression Results                            \n",
       "==============================================================================\n",
       "Dep. Variable:                  gross   R-squared:                       0.605\n",
       "Model:                            OLS   Adj. R-squared:                  0.602\n",
       "Method:                 Least Squares   F-statistic:                     179.6\n",
       "Date:                Sun, 11 Oct 2020   Prob (F-statistic):               0.00\n",
       "Time:                        22:57:01   Log-Likelihood:                -1631.7\n",
       "No. Observations:                2363   AIC:                             3305.\n",
       "Df Residuals:                    2342   BIC:                             3426.\n",
       "Df Model:                          20                                         \n",
       "Covariance Type:            nonrobust                                         \n",
       "==============================================================================\n",
       "                 coef    std err          t      P>|t|      [0.025      0.975]\n",
       "------------------------------------------------------------------------------\n",
       "const          5.0017      0.119     42.197      0.000       4.769       5.234\n",
       "budget         0.0003   3.04e-05     10.820      0.000       0.000       0.000\n",
       "runtime        0.0063      0.001      9.118      0.000       0.005       0.008\n",
       "PG            -0.0569      0.047     -1.218      0.224      -0.149       0.035\n",
       "PG-13         -0.1487      0.042     -3.560      0.000      -0.231      -0.067\n",
       "R             -0.1482      0.041     -3.613      0.000      -0.229      -0.068\n",
       "Action        -0.0955      0.027     -3.476      0.001      -0.149      -0.042\n",
       "Adventure      0.0012      0.030      0.039      0.969      -0.058       0.060\n",
       "Animation      0.1932      0.049      3.928      0.000       0.097       0.290\n",
       "Crime         -0.2595      0.031     -8.447      0.000      -0.320      -0.199\n",
       "Drama         -0.0431      0.026     -1.684      0.092      -0.093       0.007\n",
       "Family        -0.0836      0.050     -1.687      0.092      -0.181       0.014\n",
       "Fantasy       -0.1674      0.028     -5.916      0.000      -0.223      -0.112\n",
       "Horror        -0.5215      0.033    -15.594      0.000      -0.587      -0.456\n",
       "Romance       -0.1319      0.029     -4.480      0.000      -0.190      -0.074\n",
       "Sci-Fi        -0.2221      0.028     -7.899      0.000      -0.277      -0.167\n",
       "Thriller      -0.1229      0.025     -4.950      0.000      -0.172      -0.074\n",
       "days        2.056e-05   3.69e-06      5.578      0.000    1.33e-05    2.78e-05\n",
       "dir_rank       0.0007   5.05e-05     14.112      0.000       0.001       0.001\n",
       "wri_rank       0.0003   2.34e-05     12.265      0.000       0.000       0.000\n",
       "cast_rank   9.346e-06   5.33e-06      1.755      0.079    -1.1e-06    1.98e-05\n",
       "==============================================================================\n",
       "Omnibus:                       40.696   Durbin-Watson:                   1.077\n",
       "Prob(Omnibus):                  0.000   Jarque-Bera (JB):               67.660\n",
       "Skew:                           0.136   Prob(JB):                     2.03e-15\n",
       "Kurtosis:                       3.783   Cond. No.                     2.06e+05\n",
       "==============================================================================\n",
       "\n",
       "Warnings:\n",
       "[1] Standard Errors assume that the covariance matrix of the errors is correctly specified.\n",
       "[2] The condition number is large, 2.06e+05. This might indicate that there are\n",
       "strong multicollinearity or other numerical problems.\n",
       "\"\"\""
      ]
     },
     "execution_count": 8,
     "metadata": {},
     "output_type": "execute_result"
    }
   ],
   "source": [
    "model = sm.OLS(log_gross, df)\n",
    "fit = model.fit()\n",
    "fit.summary()"
   ]
  },
  {
   "cell_type": "markdown",
   "metadata": {},
   "source": [
    "Looks like log_gross fits better. Lets split and scale the data for training and testing:"
   ]
  },
  {
   "cell_type": "code",
   "execution_count": 9,
   "metadata": {},
   "outputs": [],
   "source": [
    "df, df_test, y, y_test = train_test_split(df, log_gross, test_size=.2, random_state=10)"
   ]
  },
  {
   "cell_type": "code",
   "execution_count": 10,
   "metadata": {},
   "outputs": [],
   "source": [
    "df_scaled = pd.DataFrame(preprocessing.scale(df), columns=(df.columns))\n",
    "df_test_scaled = pd.DataFrame(preprocessing.scale(df_test), columns=(df_test.columns))"
   ]
  },
  {
   "cell_type": "markdown",
   "metadata": {},
   "source": [
    "## OLS"
   ]
  },
  {
   "cell_type": "markdown",
   "metadata": {},
   "source": [
    "Since there are no hyperparameters to tune, we'll focus on feature selection. I know I want to keep the first 6 features in the dataframe, but I want to know which combination of the remaining features will yield the best results. I'll use itertools to generate a list of all possible combinations, and iteratively test every combo to see which one generates the best average scores in 10-fold cross val:"
   ]
  },
  {
   "cell_type": "code",
   "execution_count": 12,
   "metadata": {},
   "outputs": [],
   "source": [
    "# generating list of combos of all features except for first 6\n",
    "x_combos = []\n",
    "for n in range(1, len(df_scaled.iloc[:, 7:].columns)+1):\n",
    "   combos = combinations(df_scaled.iloc[:, 7:].columns, n)\n",
    "   x_combos.extend(combos)"
   ]
  },
  {
   "cell_type": "code",
   "execution_count": 13,
   "metadata": {},
   "outputs": [
    {
     "data": {
      "text/plain": [
       "16383"
      ]
     },
     "execution_count": 13,
     "metadata": {},
     "output_type": "execute_result"
    }
   ],
   "source": [
    "len(x_combos)"
   ]
  },
  {
   "cell_type": "code",
   "execution_count": 14,
   "metadata": {},
   "outputs": [
    {
     "name": "stderr",
     "output_type": "stream",
     "text": [
      "100%|██████████| 16383/16383 [07:52<00:00, 34.69it/s]"
     ]
    },
    {
     "name": "stdout",
     "output_type": "stream",
     "text": [
      "Outcomes from the Best Linear Regression Model:\n",
      "Maximum Average Test R-Squared: 0.60346\n",
      "Minimum Average Test MSE: 0.234\n",
      "The Combination of Variables: ['Animation', 'Crime', 'Fantasy', 'Horror', 'Romance', 'Sci-Fi', 'Thriller', 'days', 'dir_rank', 'wri_rank', 'cast_rank', 'const', 'budget', 'runtime', 'PG', 'PG-13', 'R', 'Action']\n"
     ]
    },
    {
     "name": "stderr",
     "output_type": "stream",
     "text": [
      "\n"
     ]
    }
   ],
   "source": [
    "# testing all 16000+ combinations\n",
    "r_sqd = {}\n",
    "mse = {}    \n",
    "for n in tqdm((range(0, len(x_combos)))):\n",
    "       combo_list = list(x_combos[n]) + list(df_scaled.iloc[:, :7].columns)\n",
    "       x = df_scaled[combo_list]\n",
    "       ols = LinearRegression()\n",
    "       cv_scores = cross_validate(ols, x, y, cv=10, scoring=('neg_mean_squared_error', 'r2'), n_jobs=-1)\n",
    "       r_sqd[str(combo_list)] = np.mean(cv_scores['test_r2'])\n",
    "       mse[str(combo_list)] = np.mean(cv_scores['test_neg_mean_squared_error'])\n",
    "print(\"Outcomes from the Best Linear Regression Model:\")\n",
    "max_r = max(r_sqd.values())\n",
    "min_mse = abs(max(mse.values()))\n",
    "print(\"Maximum Average Test R-Squared:\", max_r.round(5))\n",
    "print(\"Minimum Average Test MSE:\", min_mse.round(3))\n",
    "for possibles, m in mse.items():\n",
    "    if -m == min_mse:\n",
    "        print(\"The Combination of Variables:\", possibles)\n",
    "        ols_features = eval(possibles)"
   ]
  },
  {
   "cell_type": "markdown",
   "metadata": {},
   "source": [
    "Lets validate the model using the train/test data:"
   ]
  },
  {
   "cell_type": "code",
   "execution_count": 15,
   "metadata": {},
   "outputs": [
    {
     "name": "stdout",
     "output_type": "stream",
     "text": [
      "OLS test RMSE: 688.0500314583177\n",
      "OLS test R2: 0.5209637446332325\n"
     ]
    }
   ],
   "source": [
    "ols = LinearRegression()\n",
    "fit = ols.fit(df_scaled[ols_features], y)\n",
    "predict = ols.predict(df_test_scaled[ols_features])\n",
    "ols_test_mse = sum((np.exp(y_test) - np.exp(predict))**2)/len(y_test)\n",
    "ols_test_r2 = r2_score(y_test, predict)\n",
    "print('OLS test RMSE:', np.sqrt(ols_test_mse))\n",
    "print('OLS test R2:', ols_test_r2)"
   ]
  },
  {
   "cell_type": "markdown",
   "metadata": {},
   "source": [
    "Lets take a look at the residuals:"
   ]
  },
  {
   "cell_type": "code",
   "execution_count": 16,
   "metadata": {},
   "outputs": [],
   "source": [
    "%matplotlib inline"
   ]
  },
  {
   "cell_type": "code",
   "execution_count": 17,
   "metadata": {},
   "outputs": [
    {
     "data": {
      "text/plain": [
       "Text(0.5, 1.0, 'Distribution of OLS Residuals')"
      ]
     },
     "execution_count": 17,
     "metadata": {},
     "output_type": "execute_result"
    },
    {
     "data": {
      "image/png": "[encoded data removed]",
      "text/plain": [
       "<Figure size 720x360 with 1 Axes>"
      ]
     },
     "metadata": {
      "needs_background": "light"
     },
     "output_type": "display_data"
    }
   ],
   "source": [
    "plt.figure(figsize=[10,5])\n",
    "sns.distplot(predict-y_test, bins=50)\n",
    "plt.xlabel('Log Domestic Gross Sales Residuals', fontsize = 10, style = 'italic')\n",
    "plt.ylabel('Probability',fontsize = 10, style = 'italic')\n",
    "plt.title('Distribution of OLS Residuals',fontsize = 15,)"
   ]
  },
  {
   "cell_type": "markdown",
   "metadata": {},
   "source": [
    "## Lasso"
   ]
  },
  {
   "cell_type": "markdown",
   "metadata": {},
   "source": [
    "We're going to use Lasso to filter out polynomial features, so lets create the polyfeatures first:"
   ]
  },
  {
   "cell_type": "code",
   "execution_count": 18,
   "metadata": {
    "collapsed": true
   },
   "outputs": [
    {
     "name": "stderr",
     "output_type": "stream",
     "text": [
      "/home/mason/anaconda3/lib/python3.8/site-packages/sklearn/preprocessing/_data.py:174: UserWarning: Numerical issues were encountered when centering the data and might not be solved. Dataset may contain too large values. You may need to prescale your features.\n",
      "  warnings.warn(\"Numerical issues were encountered \"\n",
      "/home/mason/anaconda3/lib/python3.8/site-packages/sklearn/preprocessing/_data.py:174: UserWarning: Numerical issues were encountered when centering the data and might not be solved. Dataset may contain too large values. You may need to prescale your features.\n",
      "  warnings.warn(\"Numerical issues were encountered \"\n"
     ]
    }
   ],
   "source": [
    "poly = preprocessing.PolynomialFeatures(2)\n",
    "poly_x = poly.fit_transform(df)\n",
    "poly_x_test = poly.fit_transform(df_test)\n",
    "feature_names = poly.get_feature_names(df.columns)\n",
    "df_poly = pd.DataFrame(poly_x, columns=feature_names)\n",
    "df_test_poly = pd.DataFrame(poly_x_test, columns=feature_names)\n",
    "\n",
    "poly_scaled = pd.DataFrame(preprocessing.scale(df_poly), columns=(df_poly.columns))\n",
    "poly_test_scaled = pd.DataFrame(preprocessing.scale(df_test_poly), columns=(df_test_poly.columns))"
   ]
  },
  {
   "cell_type": "markdown",
   "metadata": {},
   "source": [
    "We use GridSearchCV to find the best alpha using 10-fold CV:"
   ]
  },
  {
   "cell_type": "code",
   "execution_count": 19,
   "metadata": {},
   "outputs": [],
   "source": [
    "lasso_parameters = {'alpha': np.arange(.0005,.005,.0001)}"
   ]
  },
  {
   "cell_type": "code",
   "execution_count": 20,
   "metadata": {},
   "outputs": [
    {
     "name": "stdout",
     "output_type": "stream",
     "text": [
      "Outcomes from the Best Lasso Regression Model:\n",
      "Average Test MSE: 0.208\n",
      "The optimal alpha (rounded to nearest whole number): 0.002700000000000001\n"
     ]
    }
   ],
   "source": [
    "grid_search = GridSearchCV(estimator=Lasso(), param_grid = lasso_parameters, cv=10, scoring='neg_mean_squared_error', verbose = 0, n_jobs = -1)\n",
    "grid_search.fit(poly_scaled, y)\n",
    "print(\"Outcomes from the Best Lasso Regression Model:\")\n",
    "print(\"Average Test MSE:\", -grid_search.best_score_.round(3))\n",
    "print(\"The optimal alpha (rounded to nearest whole number):\", grid_search.best_params_['alpha'])"
   ]
  },
  {
   "cell_type": "code",
   "execution_count": 21,
   "metadata": {},
   "outputs": [
    {
     "name": "stdout",
     "output_type": "stream",
     "text": [
      "Outcomes from the Best Lasso Regression Model:\n",
      "Average Test R-Squared: 0.647\n",
      "Average Test MSE: 0.208\n"
     ]
    }
   ],
   "source": [
    "lasso = grid_search.best_estimator_\n",
    "cv_scores = cross_validate(lasso, poly_scaled, y, cv=10, scoring=('neg_mean_squared_error', 'r2'))\n",
    "r = np.mean(cv_scores['test_r2'])\n",
    "m = np.mean(cv_scores['test_neg_mean_squared_error'])\n",
    "print(\"Outcomes from the Best Lasso Regression Model:\")\n",
    "print(\"Average Test R-Squared:\", r.round(4))\n",
    "print(\"Average Test MSE:\", -m.round(3))"
   ]
  },
  {
   "cell_type": "code",
   "execution_count": 22,
   "metadata": {},
   "outputs": [
    {
     "data": {
      "text/plain": [
       "array([ 0.00000000e+00,  0.00000000e+00, -0.00000000e+00,  0.00000000e+00,\n",
       "       -0.00000000e+00, -3.01879803e-02,  0.00000000e+00, -1.96827414e-02,\n",
       "       -0.00000000e+00,  0.00000000e+00, -5.64257044e-03,  1.12200109e-01,\n",
       "        0.00000000e+00, -5.14180373e-02, -1.38251720e-01, -0.00000000e+00,\n",
       "       -8.87227154e-02, -1.69272287e-02,  7.40887762e-02,  0.00000000e+00,\n",
       "       -0.00000000e+00, -0.00000000e+00,  0.00000000e+00, -0.00000000e+00,\n",
       "        0.00000000e+00, -0.00000000e+00, -0.00000000e+00,  0.00000000e+00,\n",
       "       -0.00000000e+00, -0.00000000e+00,  0.00000000e+00, -6.02285953e-02,\n",
       "        1.84732817e-02,  0.00000000e+00, -1.91033754e-02, -4.25696611e-02,\n",
       "       -0.00000000e+00, -4.33710997e-03, -2.28716912e-04,  5.62268428e-04,\n",
       "        0.00000000e+00, -0.00000000e+00, -0.00000000e+00,  0.00000000e+00,\n",
       "        0.00000000e+00, -4.45675833e-03, -0.00000000e+00, -0.00000000e+00,\n",
       "       -1.13140206e-03,  0.00000000e+00,  1.14612358e-02,  4.03446759e-02,\n",
       "        0.00000000e+00, -0.00000000e+00,  0.00000000e+00,  1.68834233e-02,\n",
       "        2.45955937e-02,  1.98557290e-02,  4.39988094e-03,  0.00000000e+00,\n",
       "        0.00000000e+00,  1.50924288e-01,  0.00000000e+00, -0.00000000e+00,\n",
       "       -0.00000000e+00,  0.00000000e+00,  0.00000000e+00, -0.00000000e+00,\n",
       "        0.00000000e+00,  0.00000000e+00, -0.00000000e+00, -0.00000000e+00,\n",
       "       -0.00000000e+00, -0.00000000e+00, -5.42611591e-02, -4.32097187e-02,\n",
       "        0.00000000e+00, -0.00000000e+00,  0.00000000e+00,  9.11730597e-02,\n",
       "        0.00000000e+00,  9.97554846e-02, -0.00000000e+00,  0.00000000e+00,\n",
       "        0.00000000e+00, -4.83525882e-03, -0.00000000e+00,  0.00000000e+00,\n",
       "       -0.00000000e+00, -0.00000000e+00, -3.10568137e-02,  0.00000000e+00,\n",
       "       -1.09945405e-03, -1.82958602e-04,  0.00000000e+00, -2.00521895e-02,\n",
       "        3.18333905e-02,  0.00000000e+00,  0.00000000e+00, -0.00000000e+00,\n",
       "       -8.86607143e-03,  0.00000000e+00, -0.00000000e+00,  0.00000000e+00,\n",
       "       -0.00000000e+00, -7.42348042e-03,  0.00000000e+00,  2.91098927e-03,\n",
       "       -5.65204148e-02,  4.64871164e-02,  0.00000000e+00,  0.00000000e+00,\n",
       "       -0.00000000e+00, -0.00000000e+00,  2.12033028e-02,  0.00000000e+00,\n",
       "       -0.00000000e+00,  0.00000000e+00, -0.00000000e+00, -0.00000000e+00,\n",
       "        0.00000000e+00, -3.81629823e-02, -7.84700509e-03,  0.00000000e+00,\n",
       "       -1.35541075e-02,  3.36984672e-02,  5.92604724e-03, -1.32396209e-02,\n",
       "       -0.00000000e+00,  6.41397844e-04, -0.00000000e+00, -1.38733302e-02,\n",
       "        0.00000000e+00, -0.00000000e+00,  0.00000000e+00, -0.00000000e+00,\n",
       "       -0.00000000e+00, -2.23600293e-02, -9.85201351e-04,  2.62875469e-03,\n",
       "       -0.00000000e+00, -2.46500464e-03, -0.00000000e+00, -0.00000000e+00,\n",
       "        0.00000000e+00, -1.95151879e-02, -3.35432320e-04, -0.00000000e+00,\n",
       "       -0.00000000e+00, -0.00000000e+00, -2.06234518e-02,  0.00000000e+00,\n",
       "       -2.37933954e-02, -0.00000000e+00, -0.00000000e+00, -0.00000000e+00,\n",
       "        1.36632682e-02,  0.00000000e+00,  0.00000000e+00,  0.00000000e+00,\n",
       "        0.00000000e+00, -0.00000000e+00,  0.00000000e+00,  6.55511846e-03,\n",
       "        1.46855016e-02,  0.00000000e+00,  1.35855551e-02,  0.00000000e+00,\n",
       "        0.00000000e+00, -4.88314262e-03,  0.00000000e+00, -1.85751420e-02,\n",
       "        0.00000000e+00,  8.03353830e-03,  2.45271901e-02, -3.07775622e-02,\n",
       "       -2.20576374e-02,  3.86154101e-03,  8.14106647e-03,  1.45214745e-02,\n",
       "        0.00000000e+00, -3.66169436e-03,  6.62220873e-03, -2.63699995e-03,\n",
       "       -0.00000000e+00, -0.00000000e+00, -0.00000000e+00,  3.25001119e-04,\n",
       "       -2.51525332e-03, -2.18392237e-02, -1.51744960e-02,  0.00000000e+00,\n",
       "       -0.00000000e+00,  2.08296356e-02, -4.81222431e-02, -8.56781469e-02,\n",
       "       -2.18331440e-02,  0.00000000e+00,  0.00000000e+00, -1.15246075e-02,\n",
       "        1.53962817e-02, -4.93658446e-03, -5.29665187e-03,  1.35275887e-02,\n",
       "       -0.00000000e+00,  1.54289985e-02,  0.00000000e+00,  0.00000000e+00,\n",
       "       -3.73453233e-02,  1.16152521e-02,  4.81736262e-02,  2.82768579e-02,\n",
       "        7.09314392e-03, -1.47202992e-02,  7.18628678e-03,  7.35497987e-02,\n",
       "       -0.00000000e+00, -6.67051988e-03, -0.00000000e+00,  6.82205650e-02,\n",
       "        4.06472206e-03, -8.48970816e-02,  1.22231507e-01,  1.53893541e-02,\n",
       "       -1.21123778e-01, -0.00000000e+00,  0.00000000e+00,  6.40321153e-03,\n",
       "       -1.15727935e-02, -1.21683870e-02, -6.46038399e-03, -3.35650989e-02,\n",
       "       -1.48255107e-01,  1.11219934e-02, -0.00000000e+00,  8.11804603e-02,\n",
       "        1.98871443e-02, -0.00000000e+00, -0.00000000e+00, -3.25930045e-03,\n",
       "       -1.52480854e-02, -0.00000000e+00, -3.87473947e-02,  1.25109444e-01,\n",
       "       -7.61917860e-03, -0.00000000e+00, -0.00000000e+00, -0.00000000e+00,\n",
       "        2.03353480e-01,  2.01380991e-02,  0.00000000e+00,  4.66037029e-02,\n",
       "        7.40596012e-03])"
      ]
     },
     "execution_count": 22,
     "metadata": {},
     "output_type": "execute_result"
    }
   ],
   "source": [
    "lasso.fit(poly_scaled, y)\n",
    "lasso.coef_"
   ]
  },
  {
   "cell_type": "markdown",
   "metadata": {},
   "source": [
    "Much better fit than OLS, and we've knocked out some features. Lets extract the features whose coefficients aren't 0, and repeat the process:"
   ]
  },
  {
   "cell_type": "code",
   "execution_count": 23,
   "metadata": {},
   "outputs": [
    {
     "name": "stdout",
     "output_type": "stream",
     "text": [
      "['PG-13', 'Action', 'Crime', 'Drama', 'Fantasy', 'Horror', 'Sci-Fi', 'Thriller', 'days', 'const Crime', 'const Drama', 'const Fantasy', 'const Horror', 'const Sci-Fi', 'const Thriller', 'const days', 'budget PG', 'budget Action', 'budget Animation', 'budget Crime', 'budget Horror', 'budget Romance', 'budget Sci-Fi', 'budget Thriller', 'budget wri_rank', 'runtime Horror', 'runtime Romance', 'runtime dir_rank', 'runtime cast_rank', 'PG Action', 'PG Family', 'PG Horror', 'PG Romance', 'PG Thriller', 'PG days', 'PG-13^2', 'PG-13 Crime', 'PG-13 Family', 'PG-13 Fantasy', 'PG-13 Horror', 'PG-13 dir_rank', 'R Crime', 'R Drama', 'R Fantasy', 'R Horror', 'R Romance', 'R Sci-Fi', 'R days', 'R wri_rank', 'Action Drama', 'Action Family', 'Action Fantasy', 'Action Romance', 'Action dir_rank', 'Action wri_rank', 'Adventure Crime', 'Adventure Family', 'Adventure Sci-Fi', 'Animation Crime', 'Animation Drama', 'Animation Fantasy', 'Animation Sci-Fi', 'Animation days', 'Animation wri_rank', 'Animation cast_rank', 'Crime^2', 'Crime Drama', 'Crime Family', 'Crime Fantasy', 'Crime Horror', 'Crime Sci-Fi', 'Crime Thriller', 'Crime days', 'Drama^2', 'Drama Family', 'Drama Fantasy', 'Drama Horror', 'Drama Thriller', 'Drama days', 'Drama dir_rank', 'Drama wri_rank', 'Family Fantasy', 'Family Horror', 'Family Romance', 'Family Sci-Fi', 'Family Thriller', 'Family dir_rank', 'Fantasy^2', 'Fantasy Horror', 'Fantasy Romance', 'Fantasy Sci-Fi', 'Fantasy Thriller', 'Fantasy days', 'Fantasy dir_rank', 'Fantasy wri_rank', 'Horror^2', 'Horror Sci-Fi', 'Horror Thriller', 'Horror days', 'Horror dir_rank', 'Horror wri_rank', 'Horror cast_rank', 'Romance Thriller', 'Romance days', 'Romance dir_rank', 'Romance wri_rank', 'Romance cast_rank', 'Sci-Fi^2', 'Sci-Fi Thriller', 'Sci-Fi dir_rank', 'Sci-Fi wri_rank', 'Thriller days', 'Thriller dir_rank', 'Thriller cast_rank', 'days^2', 'days dir_rank', 'dir_rank wri_rank', 'dir_rank cast_rank', 'wri_rank cast_rank', 'cast_rank^2']\n"
     ]
    },
    {
     "data": {
      "text/plain": [
       "120"
      ]
     },
     "execution_count": 23,
     "metadata": {},
     "output_type": "execute_result"
    }
   ],
   "source": [
    "features = []\n",
    "list(features)\n",
    "for i in range(0,len(poly_scaled.columns)):\n",
    "    if lasso.coef_[i] != 0:\n",
    "        features.append(poly_scaled.columns[i])\n",
    "print(features)\n",
    "len(features)"
   ]
  },
  {
   "cell_type": "markdown",
   "metadata": {},
   "source": [
    "Retuning Lasso with selected features:"
   ]
  },
  {
   "cell_type": "code",
   "execution_count": 24,
   "metadata": {},
   "outputs": [
    {
     "name": "stdout",
     "output_type": "stream",
     "text": [
      "Outcomes from the Best Lasso Regression Model:\n",
      "Average Test MSE: 0.2\n",
      "The optimal alpha (rounded to nearest whole number): 0.0006500000000000001\n"
     ]
    }
   ],
   "source": [
    "lasso_parameters = {'alpha': np.arange(.00005,.001,.00005)}\n",
    "grid_search = GridSearchCV(estimator=Lasso(), param_grid = lasso_parameters, cv=10, scoring='neg_mean_squared_error', verbose = 0, n_jobs = -1)\n",
    "grid_search.fit(poly_scaled[features], y)\n",
    "print(\"Outcomes from the Best Lasso Regression Model:\")\n",
    "print(\"Average Test MSE:\", -grid_search.best_score_.round(3))\n",
    "print(\"The optimal alpha (rounded to nearest whole number):\", grid_search.best_params_['alpha'])"
   ]
  },
  {
   "cell_type": "code",
   "execution_count": 25,
   "metadata": {},
   "outputs": [
    {
     "name": "stdout",
     "output_type": "stream",
     "text": [
      "Outcomes from the Best Lasso Regression Model:\n",
      "Average Test R-Squared: 0.6618\n",
      "Average Test MSE: 0.2\n"
     ]
    },
    {
     "data": {
      "text/plain": [
       "array([-0.0159538 , -0.01583125, -0.00738414,  0.23150484, -0.0905078 ,\n",
       "       -0.25765987, -0.10524406, -0.05518255,  0.14301774, -0.11235693,\n",
       "        0.00427877, -0.04056653, -0.00951465, -0.01216077, -0.        ,\n",
       "        0.00085728, -0.01559081, -0.03234933,  0.00818852,  0.05596232,\n",
       "        0.00659287,  0.04259148,  0.03949805,  0.03059061,  0.14787361,\n",
       "       -0.04586183, -0.0615935 ,  0.16284504,  0.06243605, -0.00773594,\n",
       "       -0.03782366, -0.00716375, -0.00914728, -0.02483728,  0.04265885,\n",
       "       -0.06575339, -0.00578295,  0.00513451, -0.07514515,  0.09366738,\n",
       "        0.05583334, -0.03802134, -0.02307812, -0.02784611,  0.09131002,\n",
       "        0.01090467, -0.01758626,  0.00437426, -0.01725917, -0.0276811 ,\n",
       "       -0.        ,  0.01439913, -0.00131472, -0.00800794, -0.00125261,\n",
       "       -0.02522341, -0.03005603,  0.01741209,  0.01167618,  0.02712366,\n",
       "        0.02727008, -0.00335376, -0.03948767, -0.        ,  0.03451019,\n",
       "       -0.01555514, -0.02653387,  0.00445488,  0.01417256,  0.01413384,\n",
       "       -0.0092341 ,  0.04342181, -0.00603179,  0.        , -0.01750141,\n",
       "       -0.02116774, -0.02424422,  0.03742698, -0.10495009, -0.1247478 ,\n",
       "       -0.0425316 , -0.0319892 ,  0.02988622, -0.00611759, -0.0058266 ,\n",
       "        0.02226124,  0.03223099, -0.01769615,  0.02924052,  0.06527455,\n",
       "        0.03330316,  0.01110476, -0.0231439 ,  0.03067298,  0.09250697,\n",
       "       -0.00819046,  0.08266434,  0.04303024, -0.06480856,  0.14259599,\n",
       "        0.02131086, -0.16804194,  0.0148841 , -0.01552627, -0.0109869 ,\n",
       "       -0.00105721, -0.05714654, -0.18300863,  0.03362522,  0.09672215,\n",
       "        0.02920746, -0.00421867, -0.01867664, -0.06349109,  0.12705849,\n",
       "       -0.04773552,  0.15883454, -0.        ,  0.0724709 ,  0.04507349])"
      ]
     },
     "execution_count": 25,
     "metadata": {},
     "output_type": "execute_result"
    }
   ],
   "source": [
    "lasso = grid_search.best_estimator_\n",
    "cv_scores = cross_validate(lasso, poly_scaled[features], y, cv=10, scoring=('neg_mean_squared_error', 'r2'))\n",
    "r = np.mean(cv_scores['test_r2'])\n",
    "m = np.mean(cv_scores['test_neg_mean_squared_error'])\n",
    "print(\"Outcomes from the Best Lasso Regression Model:\")\n",
    "print(\"Average Test R-Squared:\", r.round(4))\n",
    "print(\"Average Test MSE:\", -m.round(3))\n",
    "lasso.fit(poly_scaled[features], y)\n",
    "lasso.coef_"
   ]
  },
  {
   "cell_type": "markdown",
   "metadata": {},
   "source": [
    "Now lets validate the model on the test/train split:"
   ]
  },
  {
   "cell_type": "code",
   "execution_count": 26,
   "metadata": {},
   "outputs": [
    {
     "name": "stdout",
     "output_type": "stream",
     "text": [
      "Lasso test RMSE: 651.2283453825521\n",
      "Lasso test R2: 0.5418518589305822\n"
     ]
    }
   ],
   "source": [
    "predict = lasso.predict(poly_test_scaled[features])\n",
    "lasso_test_mse = sum((np.exp(y_test) - np.exp(predict))**2)/len(y_test)\n",
    "lasso_test_r2 = r2_score(y_test, predict)\n",
    "print('Lasso test RMSE:', np.sqrt(lasso_test_mse))\n",
    "print('Lasso test R2:', lasso_test_r2)"
   ]
  },
  {
   "cell_type": "markdown",
   "metadata": {},
   "source": [
    "## Ridge"
   ]
  },
  {
   "cell_type": "markdown",
   "metadata": {},
   "source": [
    "We'll feed the best features from the Lasso model into the ridge model, and tune it using the same method from Lasso:"
   ]
  },
  {
   "cell_type": "code",
   "execution_count": 27,
   "metadata": {},
   "outputs": [
    {
     "name": "stdout",
     "output_type": "stream",
     "text": [
      "Outcomes from the Best Ridge Regression Model:\n",
      "Average Test MSE: 0.201\n",
      "The optimal alpha (rounded to nearest whole number): 0.0009500000000000001\n"
     ]
    }
   ],
   "source": [
    "ridge_parameters = {'alpha': np.arange(.00005,.001,.00005)}\n",
    "grid_search = GridSearchCV(estimator=Ridge(), param_grid = ridge_parameters, cv=10, scoring='neg_mean_squared_error', verbose = 0, n_jobs = -1)\n",
    "grid_search.fit(poly_scaled[features], y)\n",
    "print(\"Outcomes from the Best Ridge Regression Model:\")\n",
    "print(\"Average Test MSE:\", -grid_search.best_score_.round(3))\n",
    "print(\"The optimal alpha (rounded to nearest whole number):\", grid_search.best_params_['alpha'])"
   ]
  },
  {
   "cell_type": "code",
   "execution_count": 28,
   "metadata": {},
   "outputs": [
    {
     "name": "stdout",
     "output_type": "stream",
     "text": [
      "Outcomes from the Best Lasso Regression Model:\n",
      "Average Test R-Squared: 0.6596\n",
      "Average Test MSE: 0.201\n"
     ]
    }
   ],
   "source": [
    "ridge = grid_search.best_estimator_\n",
    "cv_scores = cross_validate(ridge, poly_scaled[features], y, cv=10, scoring=('neg_mean_squared_error', 'r2'))\n",
    "r = np.mean(cv_scores['test_r2'])\n",
    "m = np.mean(cv_scores['test_neg_mean_squared_error'])\n",
    "print(\"Outcomes from the Best Lasso Regression Model:\")\n",
    "print(\"Average Test R-Squared:\", r.round(4))\n",
    "print(\"Average Test MSE:\", -m.round(3))"
   ]
  },
  {
   "cell_type": "code",
   "execution_count": 29,
   "metadata": {},
   "outputs": [
    {
     "data": {
      "text/plain": [
       "array([-0.04806915, -0.01384958, -0.04941268,  0.09004816, -0.05558127,\n",
       "       -0.10275818, -0.10705943, -0.03232228,  0.08096546, -0.04941268,\n",
       "        0.09004816, -0.05558127, -0.10275818, -0.10705943, -0.03232228,\n",
       "        0.08096546, -0.01852705, -0.04225269,  0.01105706,  0.0619846 ,\n",
       "        0.00353749,  0.0479592 ,  0.04705145,  0.03927223,  0.14282306,\n",
       "       -0.03939206, -0.06584266,  0.22807611,  0.03107469, -0.01125001,\n",
       "       -0.04234307, -0.00910055, -0.01254031, -0.02598054,  0.04712651,\n",
       "       -0.04806915, -0.00505604,  0.00453707, -0.0821337 ,  0.10882695,\n",
       "        0.06950372, -0.03774809, -0.028386  , -0.03292463,  0.10972205,\n",
       "        0.01270154, -0.01907922,  0.00661617, -0.01816016, -0.02930813,\n",
       "        0.00342882,  0.01805136, -0.00056666, -0.00134403, -0.00604971,\n",
       "       -0.02671431, -0.03356307,  0.01850995,  0.01374761,  0.03133711,\n",
       "        0.03189321, -0.00297945, -0.04654606, -0.01633326,  0.04701731,\n",
       "       -0.04941268, -0.02760461,  0.00369844,  0.01604557,  0.01456366,\n",
       "       -0.01080315,  0.05362039, -0.00708982,  0.09004816, -0.02343929,\n",
       "       -0.02021514, -0.02696339,  0.04310255, -0.12185507, -0.13171496,\n",
       "       -0.05665876, -0.04068081,  0.03442082, -0.00671854, -0.00718046,\n",
       "        0.02486406,  0.04521521, -0.05558127,  0.03563835,  0.07094577,\n",
       "        0.03573963,  0.01212639, -0.02477967,  0.04302965,  0.09925858,\n",
       "       -0.10275818,  0.08809129,  0.05484555, -0.05736857,  0.15560158,\n",
       "        0.01860475, -0.18609341,  0.01743582, -0.01673911, -0.00693564,\n",
       "       -0.00070134, -0.06849657, -0.10705943,  0.04065949,  0.10412845,\n",
       "        0.03074294, -0.0041505 , -0.0176254 , -0.07550196,  0.13088765,\n",
       "       -0.06020441,  0.15918102, -0.07049235,  0.08464362,  0.08004932])"
      ]
     },
     "execution_count": 29,
     "metadata": {},
     "output_type": "execute_result"
    }
   ],
   "source": [
    "ridge.fit(poly_scaled[features], y)\n",
    "ridge.coef_"
   ]
  },
  {
   "cell_type": "markdown",
   "metadata": {},
   "source": [
    "Now lets validate the model on our test/train split:"
   ]
  },
  {
   "cell_type": "code",
   "execution_count": 30,
   "metadata": {},
   "outputs": [
    {
     "name": "stdout",
     "output_type": "stream",
     "text": [
      "Ridge test RMSE: 649.1424403258687\n",
      "Ridge test R2: 0.5368711713258436\n"
     ]
    }
   ],
   "source": [
    "predict = ridge.predict(poly_test_scaled[features])\n",
    "ridge_test_mse = sum((np.exp(y_test) - np.exp(predict))**2)/len(y_test)\n",
    "ridge_test_r2 = r2_score(y_test, predict)\n",
    "print('Ridge test RMSE:', np.sqrt(ridge_test_mse))\n",
    "print('Ridge test R2:', ridge_test_r2)"
   ]
  },
  {
   "cell_type": "markdown",
   "metadata": {},
   "source": [
    "## KNearest Neighbors"
   ]
  },
  {
   "cell_type": "markdown",
   "metadata": {},
   "source": [
    "Lets use our original features, and feed the model into GridSearchCV to find the optimal number of clusters:"
   ]
  },
  {
   "cell_type": "code",
   "execution_count": 31,
   "metadata": {},
   "outputs": [
    {
     "name": "stdout",
     "output_type": "stream",
     "text": [
      "Outcomes from the Best KNN Regression Model:\n",
      "Minimum Average Test MSE: 0.256\n",
      "The optimal n: 9\n"
     ]
    }
   ],
   "source": [
    "KNN_parameters = {'n_neighbors': np.arange(1,21,1)}\n",
    "grid_search = GridSearchCV(estimator=KNeighborsRegressor(), param_grid = KNN_parameters, cv=10, scoring='neg_mean_squared_error', verbose = 0, n_jobs = -1)\n",
    "grid_search.fit(df_scaled, y)\n",
    "print(\"Outcomes from the Best KNN Regression Model:\")\n",
    "print(\"Minimum Average Test MSE:\", -grid_search.best_score_.round(3))\n",
    "print(\"The optimal n:\", grid_search.best_params_['n_neighbors'])"
   ]
  },
  {
   "cell_type": "code",
   "execution_count": 32,
   "metadata": {},
   "outputs": [
    {
     "name": "stdout",
     "output_type": "stream",
     "text": [
      "Outcomes from the Best Linear Regression Model:\n",
      "Maximum Average Test R-Squared: 0.5666\n",
      "Minimum Average Test MSE: 0.256\n"
     ]
    }
   ],
   "source": [
    "knn = grid_search.best_estimator_\n",
    "cv_scores = cross_validate(knn, df_scaled, y, cv=10, scoring=('neg_mean_squared_error', 'r2'))\n",
    "r = np.mean(cv_scores['test_r2'])\n",
    "m = np.mean(cv_scores['test_neg_mean_squared_error'])\n",
    "print(\"Outcomes from the Best Linear Regression Model:\")\n",
    "print(\"Maximum Average Test R-Squared:\", r.round(4))\n",
    "print(\"Minimum Average Test MSE:\", -m.round(3))"
   ]
  },
  {
   "cell_type": "code",
   "execution_count": 33,
   "metadata": {},
   "outputs": [
    {
     "data": {
      "text/plain": [
       "KNeighborsRegressor(n_neighbors=9)"
      ]
     },
     "execution_count": 33,
     "metadata": {},
     "output_type": "execute_result"
    }
   ],
   "source": [
    "knn.fit(df_scaled, y)"
   ]
  },
  {
   "cell_type": "markdown",
   "metadata": {},
   "source": [
    "Now lets validate the model on the test/train split:"
   ]
  },
  {
   "cell_type": "code",
   "execution_count": 34,
   "metadata": {},
   "outputs": [
    {
     "name": "stdout",
     "output_type": "stream",
     "text": [
      "KNN test RMSE: 653.7613495036005\n",
      "KNN test R2: 0.5214384188531103\n"
     ]
    }
   ],
   "source": [
    "predict = knn.predict(df_test_scaled)\n",
    "knn_test_mse = sum((np.exp(y_test) - np.exp(predict))**2)/len(y_test)\n",
    "knn_test_r2 = r2_score(y_test, predict)\n",
    "print('KNN test RMSE:', np.sqrt(knn_test_mse))\n",
    "print('KNN test R2:', knn_test_r2)"
   ]
  },
  {
   "cell_type": "markdown",
   "metadata": {},
   "source": [
    "## XGBoost"
   ]
  },
  {
   "cell_type": "markdown",
   "metadata": {},
   "source": [
    "We'll be using gridsearch to tune each hyperparameter in oder of importance. Then, once we've tuned the model once, we'll extract all features that are deemed 'important' by the model and retune."
   ]
  },
  {
   "cell_type": "markdown",
   "metadata": {},
   "source": [
    "First, define our grid of hyperparameters:"
   ]
  },
  {
   "cell_type": "code",
   "execution_count": 35,
   "metadata": {},
   "outputs": [],
   "source": [
    "learning_rate = [round(x,2) for x in np.linspace(start = .01, stop = .6, num = 60)]\n",
    "n_estimators = [int(x) for x in np.linspace(start = 100, stop = 2000, num = 20)]\n",
    "max_depth = range(3,10,1)\n",
    "child_weight = range(1,6,2)\n",
    "gamma = [0,.1,.2,.3,.4,.5,.6,.7,.8,.9,1,1.1,1.2,1.3,1.4,1.5,2]\n",
    "subsample = [.6, .7, .8, .9, 1]\n",
    "col_sample = [.6, .7, .8, .9, 1]"
   ]
  },
  {
   "cell_type": "code",
   "execution_count": 36,
   "metadata": {},
   "outputs": [
    {
     "name": "stdout",
     "output_type": "stream",
     "text": [
      "Best learning_rate: 0.18\n"
     ]
    }
   ],
   "source": [
    "# Tuning the learning_rate:\n",
    "xgb_tune = XGBRegressor(n_estimators = 100,max_depth = 3, min_child_weight = 1, subsample = .8, colsample_bytree = 1,gamma = 1, n_jobs = -1)\n",
    "xgb_grid = GridSearchCV(estimator=xgb_tune, param_grid = {'learning_rate':learning_rate},cv=10, scoring='neg_mean_squared_error', verbose = 0, n_jobs = -1)\n",
    "xgb_grid.fit(df,y)\n",
    "best_learning_rate = xgb_grid.best_params_['learning_rate']\n",
    "print(\"Best learning_rate:\", best_learning_rate)"
   ]
  },
  {
   "cell_type": "code",
   "execution_count": 37,
   "metadata": {},
   "outputs": [
    {
     "name": "stdout",
     "output_type": "stream",
     "text": [
      "Best n_estimators: 100\n"
     ]
    }
   ],
   "source": [
    "# Tuning the n_estimators:\n",
    "xgb_tune = XGBRegressor(learning_rate = best_learning_rate, max_depth = 3, min_child_weight = 1, subsample = .8, colsample_bytree = 1,gamma = 1, n_jobs = -1)\n",
    "xgb_grid = GridSearchCV(estimator=xgb_tune, param_grid = {'n_estimators': n_estimators},cv=10, scoring='neg_mean_squared_error', verbose = 0, n_jobs = -1)\n",
    "xgb_grid.fit(df,y)\n",
    "best_n = xgb_grid.best_params_['n_estimators']\n",
    "print(\"Best n_estimators:\", best_n)"
   ]
  },
  {
   "cell_type": "code",
   "execution_count": 38,
   "metadata": {},
   "outputs": [
    {
     "name": "stdout",
     "output_type": "stream",
     "text": [
      "Best max_depth: 7\n",
      "Best min_child_weight: 5\n"
     ]
    }
   ],
   "source": [
    "# Tuning max_depth and min_child_weight:\n",
    "xgb_tune = XGBRegressor(learning_rate = best_learning_rate, n_estimators = best_n, subsample = .8, colsample_bytree = 1,gamma = 1, n_jobs = -1)\n",
    "xgb_grid = GridSearchCV(estimator=xgb_tune, param_grid = {'max_depth': max_depth, 'min_child_weight': child_weight},cv=10, scoring='neg_mean_squared_error', verbose = 0, n_jobs = -1)\n",
    "xgb_grid.fit(df,y)\n",
    "best_depth = xgb_grid.best_params_['max_depth']\n",
    "best_weight = xgb_grid.best_params_['min_child_weight']\n",
    "print(\"Best max_depth:\", best_depth)\n",
    "print(\"Best min_child_weight:\", best_weight)"
   ]
  },
  {
   "cell_type": "code",
   "execution_count": 39,
   "metadata": {},
   "outputs": [
    {
     "name": "stdout",
     "output_type": "stream",
     "text": [
      "Best gamma: 1\n"
     ]
    }
   ],
   "source": [
    "# Tuning gamma:\n",
    "xgb_tune = XGBRegressor(learning_rate = best_learning_rate, n_estimators = best_n, max_depth = best_depth, min_child_weight = best_weight, subsample = .8, colsample_bytree = 1, n_jobs = -1)\n",
    "xgb_grid = GridSearchCV(estimator=xgb_tune, param_grid = {'gamma': gamma},cv=10, scoring='neg_mean_squared_error', verbose = 0, n_jobs = -1)\n",
    "xgb_grid.fit(df,y)\n",
    "best_gamma = xgb_grid.best_params_['gamma']\n",
    "print(\"Best gamma:\", best_gamma)"
   ]
  },
  {
   "cell_type": "code",
   "execution_count": 40,
   "metadata": {},
   "outputs": [
    {
     "name": "stdout",
     "output_type": "stream",
     "text": [
      "Best subsample: 0.9\n",
      "Best colsample_bytree: 0.8\n"
     ]
    }
   ],
   "source": [
    "# Tuning subsample and colsample_bytree:\n",
    "xgb_tune = XGBRegressor(learning_rate = best_learning_rate, n_estimators = best_n, max_depth = best_depth, min_child_weight = best_weight, gamma = best_gamma, n_jobs = -1)\n",
    "xgb_grid = GridSearchCV(estimator=xgb_tune, param_grid = {'subsample': subsample, 'colsample_bytree': col_sample},cv=10, scoring='neg_mean_squared_error', verbose = 0, n_jobs = -1)\n",
    "xgb_grid.fit(df,y)\n",
    "best_subsample = xgb_grid.best_params_['subsample']\n",
    "best_col_sample = xgb_grid.best_params_['colsample_bytree']\n",
    "print(\"Best subsample:\", best_subsample)\n",
    "print(\"Best colsample_bytree:\", best_col_sample)"
   ]
  },
  {
   "cell_type": "markdown",
   "metadata": {},
   "source": [
    "Lets see if we can squeeze some more out of subsample and colsample_bytree:"
   ]
  },
  {
   "cell_type": "code",
   "execution_count": 41,
   "metadata": {},
   "outputs": [],
   "source": [
    "# Rigorously tuning subsample and colsample_bytree:\n",
    "subsample = [best_subsample-.02, best_subsample - .01, best_subsample, best_subsample +.01, best_subsample + .02]\n",
    "col_sample = [best_col_sample-.02, best_col_sample - .01, best_col_sample, best_col_sample+.01, best_col_sample+ .02]"
   ]
  },
  {
   "cell_type": "code",
   "execution_count": 42,
   "metadata": {},
   "outputs": [
    {
     "name": "stdout",
     "output_type": "stream",
     "text": [
      "Best subsample: 0.9\n",
      "Best colsample_bytree: 0.78\n"
     ]
    }
   ],
   "source": [
    "xgb_tune = XGBRegressor(learning_rate = best_learning_rate, n_estimators = best_n, max_depth = best_depth, min_child_weight = best_weight, gamma = best_gamma, n_jobs = -1)\n",
    "xgb_grid = GridSearchCV(estimator=xgb_tune, param_grid = {'subsample': subsample, 'colsample_bytree': col_sample},cv=10, scoring='neg_mean_squared_error', verbose = 0, n_jobs = -1)\n",
    "xgb_grid.fit(df,y)\n",
    "best_subsample = xgb_grid.best_params_['subsample']\n",
    "best_col_sample = xgb_grid.best_params_['colsample_bytree']\n",
    "print(\"Best subsample:\", best_subsample)\n",
    "print(\"Best colsample_bytree:\", best_col_sample)"
   ]
  },
  {
   "cell_type": "markdown",
   "metadata": {},
   "source": [
    "Cross-validate the model:"
   ]
  },
  {
   "cell_type": "code",
   "execution_count": 43,
   "metadata": {},
   "outputs": [
    {
     "name": "stdout",
     "output_type": "stream",
     "text": [
      "Outcomes from the Best XGBoost Regression Model:\n",
      "Average Test R-Squared: 0.67808\n",
      "Average Test MSE: 0.19\n"
     ]
    }
   ],
   "source": [
    "xgb = XGBRegressor(learning_rate = best_learning_rate, n_estimators = best_n, max_depth = best_depth, min_child_weight = best_weight, subsample = best_subsample, colsample_bytree = best_col_sample, gamma = best_gamma, n_jobs = -1)\n",
    "cv_scores = cross_validate(xgb, df, y, cv=10, scoring=('neg_mean_squared_error', 'r2'), verbose = 0, n_jobs = -1)\n",
    "r = np.mean(cv_scores['test_r2'])\n",
    "m = np.mean(cv_scores['test_neg_mean_squared_error'])\n",
    "print(\"Outcomes from the Best XGBoost Regression Model:\")\n",
    "print(\"Average Test R-Squared:\", r.round(5))\n",
    "print(\"Average Test MSE:\", -m.round(3))"
   ]
  },
  {
   "cell_type": "markdown",
   "metadata": {},
   "source": [
    "Looks like a big improvement. Lets extract the important features an repeat the process:"
   ]
  },
  {
   "cell_type": "code",
   "execution_count": 44,
   "metadata": {},
   "outputs": [
    {
     "name": "stdout",
     "output_type": "stream",
     "text": [
      "Variable: Horror               Importance:0.33000001311302185\n",
      "Variable: dir_rank             Importance:0.11999999731779099\n",
      "Variable: wri_rank             Importance:0.10000000149011612\n",
      "Variable: Animation            Importance:0.05000000074505806\n",
      "Variable: budget               Importance:0.03999999910593033\n",
      "Variable: Sci-Fi               Importance:0.03999999910593033\n",
      "Variable: Thriller             Importance:0.03999999910593033\n",
      "Variable: cast_rank            Importance:0.03999999910593033\n",
      "Variable: runtime              Importance:0.029999999329447746\n",
      "Variable: Crime                Importance:0.029999999329447746\n",
      "Variable: Family               Importance:0.029999999329447746\n",
      "Variable: PG-13                Importance:0.019999999552965164\n",
      "Variable: Action               Importance:0.019999999552965164\n",
      "Variable: Drama                Importance:0.019999999552965164\n",
      "Variable: Fantasy              Importance:0.019999999552965164\n",
      "Variable: Romance              Importance:0.019999999552965164\n",
      "Variable: days                 Importance:0.019999999552965164\n",
      "Variable: PG                   Importance:0.009999999776482582\n",
      "Variable: R                    Importance:0.009999999776482582\n",
      "Variable: Adventure            Importance:0.009999999776482582\n",
      "Variable: const                Importance:0.0\n"
     ]
    }
   ],
   "source": [
    "xgb.fit(df, y)\n",
    "importances = list(xgb.feature_importances_)\n",
    "feature_importances = [(feature, round(importance, 2)) for feature,importance in zip(df.columns, importances)]\n",
    "feature_importances = sorted(feature_importances, key = lambda x: x[1], reverse = True)\n",
    "[print('Variable: {:20} Importance:{}'.format(*pair)) for pair in feature_importances]\n",
    "sorted_features = [importance[0] for importance in feature_importances]\n",
    "sorted_importances = [importance[1] for importance in feature_importances]\n",
    "features = []\n",
    "for i in range(0, len(sorted_features)):\n",
    "    if sorted_importances[i] != 0:\n",
    "        features.append(sorted_features[i])"
   ]
  },
  {
   "cell_type": "code",
   "execution_count": 45,
   "metadata": {},
   "outputs": [
    {
     "name": "stdout",
     "output_type": "stream",
     "text": [
      "['Horror', 'dir_rank', 'wri_rank', 'Animation', 'budget', 'Sci-Fi', 'Thriller', 'cast_rank', 'runtime', 'Crime', 'Family', 'PG-13', 'Action', 'Drama', 'Fantasy', 'Romance', 'days', 'PG', 'R', 'Adventure']\n"
     ]
    }
   ],
   "source": [
    "print(features)"
   ]
  },
  {
   "cell_type": "code",
   "execution_count": 46,
   "metadata": {},
   "outputs": [
    {
     "name": "stdout",
     "output_type": "stream",
     "text": [
      "Outcomes from the Best Linear Regression Model:\n",
      "Maximum Average Test R-Squared: 0.66458\n",
      "Minimum Average Test MSE: 0.198\n"
     ]
    }
   ],
   "source": [
    "X = df[features]\n",
    "cv_scores = cross_validate(xgb, X, y, cv=10, scoring=('neg_mean_squared_error', 'r2'), verbose = 0, n_jobs = -1)\n",
    "r = np.mean(cv_scores['test_r2'])\n",
    "m = np.mean(cv_scores['test_neg_mean_squared_error'])\n",
    "print(\"Outcomes from the Best Linear Regression Model:\")\n",
    "print(\"Maximum Average Test R-Squared:\", r.round(5))\n",
    "print(\"Minimum Average Test MSE:\", -m.round(3))"
   ]
  },
  {
   "cell_type": "markdown",
   "metadata": {},
   "source": [
    "Retuning with new features:"
   ]
  },
  {
   "cell_type": "code",
   "execution_count": 47,
   "metadata": {},
   "outputs": [],
   "source": [
    "learning_rate = [round(x,2) for x in np.linspace(start = .01, stop = .6, num = 60)]\n",
    "n_estimators = [int(x) for x in np.linspace(start = 100, stop = 2000, num = 20)]\n",
    "max_depth = range(3,10,1)\n",
    "child_weight = range(1,6,2)\n",
    "gamma = [0,.1,.2,.3,.4,.5,.6,.7,.8,.9,1,1.1,1.2,1.3,1.4,1.5,2]\n",
    "subsample = [.6, .7, .8, .9, 1]\n",
    "col_sample = [.6, .7, .8, .9, 1]"
   ]
  },
  {
   "cell_type": "code",
   "execution_count": 48,
   "metadata": {},
   "outputs": [
    {
     "name": "stdout",
     "output_type": "stream",
     "text": [
      "Best learning_rate: 0.14\n"
     ]
    }
   ],
   "source": [
    "# Tuning learning_rate:\n",
    "xgb_tune = XGBRegressor(n_estimators = 100,max_depth = 3, min_child_weight = 1, subsample = .8, colsample_bytree = 1,gamma = 1, n_jobs = -1)\n",
    "xgb_grid = GridSearchCV(estimator=xgb_tune, param_grid = {'learning_rate':learning_rate},cv=10, scoring='neg_mean_squared_error', verbose = 0, n_jobs = -1)\n",
    "xgb_grid.fit(X,y)\n",
    "best_learning_rate = xgb_grid.best_params_['learning_rate']\n",
    "print(\"Best learning_rate:\", best_learning_rate)"
   ]
  },
  {
   "cell_type": "code",
   "execution_count": 49,
   "metadata": {},
   "outputs": [
    {
     "name": "stdout",
     "output_type": "stream",
     "text": [
      "Best n_estimators: 400\n"
     ]
    }
   ],
   "source": [
    "# Tuning n_estimators:\n",
    "xgb_tune = XGBRegressor(learning_rate = best_learning_rate, max_depth = 3, min_child_weight = 1, subsample = .8, colsample_bytree = 1,gamma = 1, n_jobs = -1)\n",
    "xgb_grid = GridSearchCV(estimator=xgb_tune, param_grid = {'n_estimators': n_estimators},cv=10, scoring='neg_mean_squared_error', verbose = 0, n_jobs = -1)\n",
    "xgb_grid.fit(X,y)\n",
    "best_n = xgb_grid.best_params_['n_estimators']\n",
    "print(\"Best n_estimators:\", best_n)"
   ]
  },
  {
   "cell_type": "code",
   "execution_count": 50,
   "metadata": {},
   "outputs": [
    {
     "name": "stdout",
     "output_type": "stream",
     "text": [
      "Best max_depth: 4\n",
      "Best min_child_weight: 3\n"
     ]
    }
   ],
   "source": [
    "# Tuning max_depth and min_child_weight\n",
    "xgb_tune = XGBRegressor(learning_rate = best_learning_rate, n_estimators = best_n, subsample = .8, colsample_bytree = 1,gamma = 1, n_jobs = -1)\n",
    "xgb_grid = GridSearchCV(estimator=xgb_tune, param_grid = {'max_depth': max_depth, 'min_child_weight': child_weight},cv=10, scoring='neg_mean_squared_error', verbose = 0, n_jobs = -1)\n",
    "xgb_grid.fit(X,y)\n",
    "best_depth = xgb_grid.best_params_['max_depth']\n",
    "best_weight = xgb_grid.best_params_['min_child_weight']\n",
    "print(\"Best max_depth:\", best_depth)\n",
    "print(\"Best min_child_weight:\", best_weight)"
   ]
  },
  {
   "cell_type": "code",
   "execution_count": 51,
   "metadata": {},
   "outputs": [
    {
     "name": "stdout",
     "output_type": "stream",
     "text": [
      "Best gamma: 1\n"
     ]
    }
   ],
   "source": [
    "# Tuning gamma:\n",
    "xgb_tune = XGBRegressor(learning_rate = best_learning_rate, n_estimators = best_n, max_depth = best_depth, min_child_weight = best_weight, subsample = .8, colsample_bytree = 1, n_jobs = -1)\n",
    "xgb_grid = GridSearchCV(estimator=xgb_tune, param_grid = {'gamma': gamma},cv=10, scoring='neg_mean_squared_error', verbose = 0, n_jobs = -1)\n",
    "xgb_grid.fit(X,y)\n",
    "best_gamma = xgb_grid.best_params_['gamma']\n",
    "print(\"Best gamma:\", best_gamma)"
   ]
  },
  {
   "cell_type": "code",
   "execution_count": 52,
   "metadata": {},
   "outputs": [
    {
     "name": "stdout",
     "output_type": "stream",
     "text": [
      "Best subsample: 0.9\n",
      "Best colsample_bytree: 0.8\n"
     ]
    }
   ],
   "source": [
    "# Tuning subsample and colsample_bytree:\n",
    "xgb_tune = XGBRegressor(learning_rate = best_learning_rate, n_estimators = best_n, max_depth = best_depth, min_child_weight = best_weight, gamma = best_gamma, n_jobs = -1)\n",
    "xgb_grid = GridSearchCV(estimator=xgb_tune, param_grid = {'subsample': subsample, 'colsample_bytree': col_sample},cv=10, scoring='neg_mean_squared_error', verbose = 0, n_jobs = -1)\n",
    "xgb_grid.fit(X,y)\n",
    "best_subsample = xgb_grid.best_params_['subsample']\n",
    "best_col_sample = xgb_grid.best_params_['colsample_bytree']\n",
    "print(\"Best subsample:\", best_subsample)\n",
    "print(\"Best colsample_bytree:\", best_col_sample)"
   ]
  },
  {
   "cell_type": "code",
   "execution_count": 53,
   "metadata": {},
   "outputs": [
    {
     "name": "stdout",
     "output_type": "stream",
     "text": [
      "Best subsample: 0.9\n",
      "Best colsample_bytree: 0.8\n"
     ]
    }
   ],
   "source": [
    "# Rigorously tuning subsample and colsample_bytree:\n",
    "subsample = [best_subsample-.02, best_subsample - .01, best_subsample]\n",
    "col_sample = [best_col_sample-.02, best_col_sample - .01, best_col_sample]\n",
    "\n",
    "xgb_tune = XGBRegressor(learning_rate = best_learning_rate, n_estimators = best_n, max_depth = best_depth, min_child_weight = best_weight, gamma = best_gamma, n_jobs = -1)\n",
    "xgb_grid = GridSearchCV(estimator=xgb_tune, param_grid = {'subsample': subsample, 'colsample_bytree': col_sample},cv=10, scoring='neg_mean_squared_error', verbose = 0, n_jobs = -1)\n",
    "xgb_grid.fit(X,y)\n",
    "best_subsample = xgb_grid.best_params_['subsample']\n",
    "best_col_sample = xgb_grid.best_params_['colsample_bytree']\n",
    "print(\"Best subsample:\", best_subsample)\n",
    "print(\"Best colsample_bytree:\", best_col_sample)"
   ]
  },
  {
   "cell_type": "markdown",
   "metadata": {},
   "source": [
    "Cross-validating optimal model:"
   ]
  },
  {
   "cell_type": "code",
   "execution_count": 54,
   "metadata": {},
   "outputs": [
    {
     "name": "stdout",
     "output_type": "stream",
     "text": [
      "Outcomes from the Best XGBoost Regression Model:\n",
      "Average Test R-Squared: 0.67497\n",
      "Average Test MSE: 0.192\n"
     ]
    }
   ],
   "source": [
    "xgb = XGBRegressor(learning_rate = best_learning_rate, n_estimators = best_n, max_depth = best_depth, min_child_weight = best_weight, subsample = best_subsample, colsample_bytree = best_col_sample, gamma = best_gamma, n_jobs = -1)\n",
    "cv_scores = cross_validate(xgb, X, y, cv=10, scoring=('neg_mean_squared_error', 'r2'), verbose = 0, n_jobs = -1)\n",
    "r = np.mean(cv_scores['test_r2'])\n",
    "m = np.mean(cv_scores['test_neg_mean_squared_error'])\n",
    "print(\"Outcomes from the Best XGBoost Regression Model:\")\n",
    "print(\"Average Test R-Squared:\", r.round(5))\n",
    "print(\"Average Test MSE:\", -m.round(3))"
   ]
  },
  {
   "cell_type": "markdown",
   "metadata": {},
   "source": [
    "Nice. Lets fit to the test/train split:"
   ]
  },
  {
   "cell_type": "code",
   "execution_count": 55,
   "metadata": {},
   "outputs": [
    {
     "name": "stdout",
     "output_type": "stream",
     "text": [
      "Test R2 for XGBoost: 0.6074\n",
      "Test RMSE for XGBoost: 517.264\n"
     ]
    }
   ],
   "source": [
    "xgb.fit(X,y)\n",
    "xgb_pred = xgb.predict(df_test[features])\n",
    "xgb_test_mse = sum((np.exp(y_test) - np.exp(xgb_pred))**2)/len(y_test)\n",
    "xgb_test_r2 = r2_score(y_test, xgb_pred)\n",
    "print(\"Test R2 for XGBoost:\", round(xgb_test_r2, 4))\n",
    "print(\"Test RMSE for XGBoost:\", round(np.sqrt(xgb_test_mse),3))"
   ]
  },
  {
   "cell_type": "markdown",
   "metadata": {},
   "source": [
    "## Pickling objects for the app:"
   ]
  },
  {
   "cell_type": "code",
   "execution_count": 56,
   "metadata": {},
   "outputs": [],
   "source": [
    "import pickle"
   ]
  },
  {
   "cell_type": "code",
   "execution_count": 57,
   "metadata": {},
   "outputs": [],
   "source": [
    "with open('imdb_xgb.pickle', 'wb') as to_write:\n",
    "    pickle.dump(xgb, to_write)"
   ]
  },
  {
   "cell_type": "code",
   "execution_count": null,
   "metadata": {},
   "outputs": [],
   "source": [
    "with open('y_test.pickle', 'wb') as to_write:\n",
    "    pickle.dump(y_test, to_write)"
   ]
  },
  {
   "cell_type": "code",
   "execution_count": null,
   "metadata": {},
   "outputs": [],
   "source": [
    "with open('df_test.pickle', 'wb') as to_write:\n",
    "    pickle.dump(df_test[features], to_write)"
   ]
  },
  {
   "cell_type": "code",
   "execution_count": null,
   "metadata": {},
   "outputs": [],
   "source": [
    "with open('df_train.pickle', 'wb') as to_write:\n",
    "    pickle.dump(X, to_write)"
   ]
  },
  {
   "cell_type": "markdown",
   "metadata": {},
   "source": [
    "## Plotting XGBoost"
   ]
  },
  {
   "cell_type": "code",
   "execution_count": 58,
   "metadata": {},
   "outputs": [
    {
     "data": {
      "text/plain": [
       "Text(0.5, 1.0, 'Distribution of XGBoost Residuals')"
      ]
     },
     "execution_count": 58,
     "metadata": {},
     "output_type": "execute_result"
    },
    {
     "data": {
      "image/png": "[encoded data removed]",
      "text/plain": [
       "<Figure size 720x360 with 1 Axes>"
      ]
     },
     "metadata": {
      "needs_background": "light"
     },
     "output_type": "display_data"
    }
   ],
   "source": [
    "plt.figure(figsize=[10,5])\n",
    "sns.distplot(predict-y_test, bins=50)\n",
    "plt.xlabel('Log Domestic Gross Sales Residuals', fontsize = 10, style = 'italic')\n",
    "plt.ylabel('Probability',fontsize = 10, style = 'italic')\n",
    "plt.title('Distribution of XGBoost Residuals',fontsize = 15,)"
   ]
  },
  {
   "cell_type": "code",
   "execution_count": 61,
   "metadata": {},
   "outputs": [
    {
     "data": {
      "text/plain": [
       "<Figure size 720x360 with 0 Axes>"
      ]
     },
     "metadata": {},
     "output_type": "display_data"
    },
    {
     "data": {
      "image/png": "[encoded data removed]",
      "text/plain": [
       "<Figure size 360x360 with 1 Axes>"
      ]
     },
     "metadata": {
      "needs_background": "light"
     },
     "output_type": "display_data"
    }
   ],
   "source": [
    "plt.figure(figsize=[10,5])\n",
    "sns.relplot(data = plot_df, x='predicted', y='actual')\n",
    "plt.xlabel('Predicted Log Domestic Gross Sales', fontsize = 10, style = 'italic')\n",
    "plt.ylabel('Actual Log Domestic Gross Sales',fontsize = 10, style = 'italic')\n",
    "plt.title('Predicted vs. Actual Log Domestic Sales',fontsize = 15,)\n",
    "plt.grid()"
   ]
  },
  {
   "cell_type": "code",
   "execution_count": null,
   "metadata": {},
   "outputs": [],
   "source": []
  }
 ],
 "metadata": {
  "kernelspec": {
   "display_name": "Python 3",
   "language": "python",
   "name": "python3"
  },
  "language_info": {
   "codemirror_mode": {
    "name": "ipython",
    "version": 3
   },
   "file_extension": ".py",
   "mimetype": "text/x-python",
   "name": "python",
   "nbconvert_exporter": "python",
   "pygments_lexer": "ipython3",
   "version": "3.8.3"
  }
 },
 "nbformat": 4,
 "nbformat_minor": 4
}
